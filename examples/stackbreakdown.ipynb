{
 "cells": [
  {
   "cell_type": "markdown",
   "metadata": {},
   "source": [
    "# Mass- and volume breakdown of a cell stack"
   ]
  },
  {
   "cell_type": "markdown",
   "metadata": {},
   "source": [
    "This example notebook shows how to plot and return a dataframe with mass- and volume loadings of a (single-layer) cell stack.\n",
    "\n",
    "Volume loadings result from the product of compartment thicknesses and respective volume fractions and the mass loadings from further multiplication with respective densities.\n",
    "\n",
    "The densities of the electrodes and the separator with electrolyte, as well as thicknesses and volume fractions are included within PyBaMM parameter-sets. However, the densities of electrolyte and active materials need to be added to the parameter-set. The density of the inactive material and the dry separator is calculated from the remaining mass of the compartment."
   ]
  },
  {
   "cell_type": "code",
   "execution_count": null,
   "metadata": {},
   "outputs": [],
   "source": [
    "from pybamm_tea import TEA\n",
    "import pybamm\n",
    "import matplotlib.pyplot as plt\n",
    "import matplotlib.patches as patches\n",
    "import pandas as pd\n",
    "\n",
    "# define base parameter-set\n",
    "param_nco = pybamm.ParameterValues(\"Ecker2015\")\n",
    "# provide densities and/or update parameter\n",
    "nco_input_data = {\n",
    "    \"Electrolyte density [kg.m-3]\": 1276, # EC:EMC\n",
    "    \"Negative electrode active material density [kg.m-3]\": 2266,  # Graphite\n",
    "    \"Positive electrode active material density [kg.m-3]\": 4750,  # NCO\n",
    "}\n",
    "# update parameter dict\n",
    "param_nco.update(nco_input_data, check_already_exists=False)\n",
    "\n",
    "# create TEA object\n",
    "tea_nco = TEA(param_nco)\n",
    "# plot stack breakdown\n",
    "tea_nco.plot_stack_breakdown()\n",
    "# return stack breakdown dataframe\n",
    "tea_nco.stack_breakdown_dataframe()"
   ]
  }
 ],
 "metadata": {
  "kernelspec": {
   "display_name": "base",
   "language": "python",
   "name": "python3"
  },
  "language_info": {
   "codemirror_mode": {
    "name": "ipython",
    "version": 3
   },
   "file_extension": ".py",
   "mimetype": "text/x-python",
   "name": "python",
   "nbconvert_exporter": "python",
   "pygments_lexer": "ipython3",
   "version": "3.9.12"
  },
  "orig_nbformat": 4
 },
 "nbformat": 4,
 "nbformat_minor": 2
}
